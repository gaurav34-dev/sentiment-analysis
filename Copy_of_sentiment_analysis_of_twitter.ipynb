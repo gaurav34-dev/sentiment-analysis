{
  "nbformat": 4,
  "nbformat_minor": 0,
  "metadata": {
    "colab": {
      "name": "Copy of sentiment analysis of twitter.ipynb",
      "provenance": [],
      "collapsed_sections": [],
      "authorship_tag": "ABX9TyMoQDKBDKUuBRaBK4UnSpdy",
      "include_colab_link": true
    },
    "kernelspec": {
      "name": "python3",
      "display_name": "Python 3"
    }
  },
  "cells": [
    {
      "cell_type": "markdown",
      "metadata": {
        "id": "view-in-github",
        "colab_type": "text"
      },
      "source": [
        "<a href=\"https://colab.research.google.com/github/gbaser54/sentiment-analysis/blob/master/Copy_of_sentiment_analysis_of_twitter.ipynb\" target=\"_parent\"><img src=\"https://colab.research.google.com/assets/colab-badge.svg\" alt=\"Open In Colab\"/></a>"
      ]
    },
    {
      "cell_type": "code",
      "metadata": {
        "id": "PBCUuF6jOuLX",
        "colab_type": "code",
        "colab": {}
      },
      "source": [
        "import re\n",
        "import tweepy \n",
        "from tweepy import OAuthHandler\n",
        "from textblob import TextBlob\n"
      ],
      "execution_count": null,
      "outputs": []
    },
    {
      "cell_type": "code",
      "metadata": {
        "id": "_V-eDkJgULrI",
        "colab_type": "code",
        "colab": {}
      },
      "source": [
        "consumer_key='xxxxxxxxxxxxxxxxxxxx'\n",
        "consumer_secret='xxxxxxxxxxxxxxxxxxxxxxxxxxxxxxxxxxxxx'\n",
        "access_token='xxxxxxxxxxxxxxxxxxxxxxxxxxxxxxxxxxxxxxxxxxxx'\n",
        "access_token_secret='xxxxxxxxxxxxxxxxxxxxxxxxxxxxxxxxxxxxxxxxxx'"
      ],
      "execution_count": null,
      "outputs": []
    },
    {
      "cell_type": "code",
      "metadata": {
        "id": "37FsLhSKU1i4",
        "colab_type": "code",
        "colab": {}
      },
      "source": [
        "try:\n",
        "# create OAuthHandler object\n",
        " self.auth=OAuthHandler(consumer_key,consumer_secret)\n",
        "#self access token and secret\n",
        " self.auth.set.access_token(access_token,access_token_secret)\n",
        "#create tweepy API object to fetch tweets\n",
        " self.api=tweepy.API(self.auth)\n",
        "\n",
        "except:\n",
        " print(\"Error:Authentication Failed\")\n"
      ],
      "execution_count": null,
      "outputs": []
    },
    {
      "cell_type": "code",
      "metadata": {
        "id": "0hZf7whLWbEV",
        "colab_type": "code",
        "colab": {}
      },
      "source": [
        "tweets=api.search(\"IPL\")\n",
        "for tweet in public_tweets:\n",
        "  print tweet.text"
      ],
      "execution_count": null,
      "outputs": []
    },
    {
      "cell_type": "code",
      "metadata": {
        "id": "FaWO-vAqWo6K",
        "colab_type": "code",
        "colab": {}
      },
      "source": [
        "analysis=TextBlob(tweet.text)"
      ],
      "execution_count": null,
      "outputs": []
    },
    {
      "cell_type": "code",
      "metadata": {
        "id": "jPmDyiyPWxXz",
        "colab_type": "code",
        "colab": {}
      },
      "source": [
        "print(analysis.sentiment)"
      ],
      "execution_count": null,
      "outputs": []
    }
  ]
}