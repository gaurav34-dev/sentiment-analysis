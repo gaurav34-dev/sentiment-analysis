{
  "nbformat": 4,
  "nbformat_minor": 0,
  "metadata": {
    "colab": {
      "name": "sentiment_analyser.ipynb",
      "provenance": [],
      "collapsed_sections": [],
      "authorship_tag": "ABX9TyPytPU8vSswwyudUPoDppvl",
      "include_colab_link": true
    },
    "kernelspec": {
      "name": "python3",
      "display_name": "Python 3"
    }
  },
  "cells": [
    {
      "cell_type": "markdown",
      "metadata": {
        "id": "view-in-github",
        "colab_type": "text"
      },
      "source": [
        "<a href=\"https://colab.research.google.com/github/gbaser54/sentiment-analysis/blob/master/sentiment_analyser%20.ipynb\" target=\"_parent\"><img src=\"https://colab.research.google.com/assets/colab-badge.svg\" alt=\"Open In Colab\"/></a>"
      ]
    },
    {
      "cell_type": "code",
      "metadata": {
        "id": "O-7LudRZ7vCn",
        "colab_type": "code",
        "colab": {
          "base_uri": "https://localhost:8080/",
          "height": 51
        },
        "outputId": "dc1fbf47-80bf-4127-c776-c2b7504f1b4b"
      },
      "source": [
        "from textblob import TextBlob\n",
        "y=input(\"Type your sentence: \")\n",
        "edu=TextBlob(y)\n",
        "x=edu.sentiment.polarity\n",
        "#NEGATIVE =<0 and Neutral=0 and Positive x>0 && x<=1\n",
        "if x<0:\n",
        "  print(\"Negative\")\n",
        "elif x==0:\n",
        "  print(\"Neutral\")\n",
        "elif x>0 and x<=1:\n",
        "  print(\"Positive\")"
      ],
      "execution_count": null,
      "outputs": [
        {
          "output_type": "stream",
          "text": [
            "Type your sentence: Big B welcomes him back home \n",
            "Neutral\n"
          ],
          "name": "stdout"
        }
      ]
    }
  ]
}