{
  "nbformat": 4,
  "nbformat_minor": 0,
  "metadata": {
    "colab": {
      "name": "sentiment analysis of twitter.ipynb",
      "provenance": [],
      "collapsed_sections": [],
      "authorship_tag": "ABX9TyPr/55rfVhUSQTEopSMs5Ak",
      "include_colab_link": true
    },
    "kernelspec": {
      "name": "python3",
      "display_name": "Python 3"
    }
  },
  "cells": [
    {
      "cell_type": "markdown",
      "metadata": {
        "id": "view-in-github",
        "colab_type": "text"
      },
      "source": [
        "<a href=\"https://colab.research.google.com/github/gbaser54/sentiment-analysis/blob/master/sentiment_analysis_of_twitter.ipynb\" target=\"_parent\"><img src=\"https://colab.research.google.com/assets/colab-badge.svg\" alt=\"Open In Colab\"/></a>"
      ]
    },
    {
      "cell_type": "code",
      "metadata": {
        "id": "PBCUuF6jOuLX",
        "colab_type": "code",
        "colab": {}
      },
      "source": [
        "import re\n",
        "import tweepy \n",
        "from tweepy import OAuthHandler\n",
        "from textblob import TextBlob\n"
      ],
      "execution_count": 3,
      "outputs": []
    },
    {
      "cell_type": "code",
      "metadata": {
        "id": "_V-eDkJgULrI",
        "colab_type": "code",
        "colab": {}
      },
      "source": [
        "consumer_key='xxxxxxxxxxxxxxxxxxxxxxxxxxxx'\n",
        "consumer_secret='xxxxxxxxxxxxxxxxxxxxxxxxxxxxxxxxxxx'\n",
        "access_token='xxxxxxxxxxxxxxxxxxxxxxxxxxxxxxxxxxxxxxxx'\n",
        "access_token_secret='xxxxxxxxxxxxxxxxxxxxxxxxxxxxxxxxxxxxxxxx'"
      ],
      "execution_count": 4,
      "outputs": []
    },
    {
      "cell_type": "code",
      "metadata": {
        "id": "37FsLhSKU1i4",
        "colab_type": "code",
        "colab": {}
      },
      "source": [
        "try:\n",
        "# create OAuthHandler object\n",
        " authenticate=tweepy.OAuthHandler(consumer_key,consumer_secret)\n",
        "#self access token and secret\n",
        " authenticate.set_access_token(access_token,access_token_secret)\n",
        "#create tweepy API object to fetch tweets\n",
        " api=tweepy.API(authenticate,wait_on_rate_limit=True)\n",
        "\n",
        "except:\n",
        " print(\"Error:Authentication Failed\")\n"
      ],
      "execution_count": 5,
      "outputs": []
    },
    {
      "cell_type": "code",
      "metadata": {
        "id": "0hZf7whLWbEV",
        "colab_type": "code",
        "colab": {
          "base_uri": "https://localhost:8080/",
          "height": 462
        },
        "outputId": "5b5a0196-9281-4327-e8bc-4a1d025c9fcf"
      },
      "source": [
        "tweets=api.search(\"sun\")\n",
        "for tweet in tweets:\n",
        "  print (tweet.text)"
      ],
      "execution_count": 14,
      "outputs": [
        {
          "output_type": "stream",
          "text": [
            "@sun_sun_sanchan 聞いたときは笑い話になりましたけど、よくよく考えると怖いですよね😓\n",
            "“ There is nothing \n",
            "left to worry about \n",
            "the sun and her flowes \n",
            "are her “ \n",
            "\n",
            "- Rupi Kuar\n",
            "drew the sun a couple days ago for someone and feeling very a wave of brightness shinning over me because i heard t… https://t.co/omOey6mtpS\n",
            "RT @h6o35: @ElNumeroUnoRey @FawnesWorld @VivMilano @Sun_Flower119 @plesiosaurio72 @guiller25136814 @kk296344 @kpizzu1 @universenme @fredyko…\n",
            "RT @_somipics: who needs the sun when u have jeon somi? https://t.co/IZbCURtddw\n",
            "NGSW先輩リボーンズガンダム説\n",
            "・ガンダム形態とキャノン形態がある→NGSW形態とJYNY形態があるため一致\n",
            "・試作品がいくつか存在→NGSWが産まれる前にNGSWの試作品(精子)が存在していたため一致\n",
            "・トランザム！→バーミヤン！ 発音の完全一致\n",
            "RT @ANakajima_bot: 俺はね、あんな奴等に殴られたって、殴られることなんか負けたとは思いやしないんだよ。ほんとうに。それなのに、やっぱり（ここでもう一度すすり上げて）やっぱり俺はくやしいんだ。それで、くやしいくせに向って行けないんだ。怖くって向って行けないんだ。…\n",
            "The sun will always rise on what Lou do in the dark.\n",
            "RT @canariarock: トミカのフェリー「さんふらわあ」🚢 ⚓️\n",
            "\n",
            "#トミカ #想い出の夏休み https://t.co/FAYjuQvY01\n",
            "RT @h6o35: @ElNumeroUnoRey @FawnesWorld @VivMilano @Sun_Flower119 @plesiosaurio72 @guiller25136814 @kk296344 @kpizzu1 @universenme @fredyko…\n",
            "RT @h6o35: @ElNumeroUnoRey @FawnesWorld @VivMilano @Sun_Flower119 @plesiosaurio72 @guiller25136814 @kk296344 @kpizzu1 @universenme @fredyko…\n",
            "RT @arnellarmon: Aquarius Sun • Cancer Moon • Scorpio Rising • https://t.co/OqZNiNIfcW\n",
            "@bush0123456789 Hahhaha nahi us k safar ka haalnama sun Lia hai aj .. but haan wo Tak ho ayi waise :$ acha yaad karaya\n",
            "RT @jeonsfk: HOW TO HIDE FROM THE SUN — A GUIDE BY MIN YOONGI https://t.co/ryFY8h9PQR\n",
            "RT @sshin6591: Black berries are ripening—I picked some &amp; ate—among other wild neighbors at the edges of forest &amp; meadow. Summer is yet you…\n"
          ],
          "name": "stdout"
        }
      ]
    },
    {
      "cell_type": "code",
      "metadata": {
        "id": "FaWO-vAqWo6K",
        "colab_type": "code",
        "colab": {}
      },
      "source": [
        "analysis=TextBlob(tweet.text)"
      ],
      "execution_count": 15,
      "outputs": []
    },
    {
      "cell_type": "code",
      "metadata": {
        "id": "jPmDyiyPWxXz",
        "colab_type": "code",
        "colab": {
          "base_uri": "https://localhost:8080/",
          "height": 34
        },
        "outputId": "7d33ddfa-e02b-4aa5-9838-3123356cdc44"
      },
      "source": [
        "print(analysis.sentiment)"
      ],
      "execution_count": 16,
      "outputs": [
        {
          "output_type": "stream",
          "text": [
            "Sentiment(polarity=-0.06388888888888887, subjectivity=0.40277777777777785)\n"
          ],
          "name": "stdout"
        }
      ]
    }
  ]
}